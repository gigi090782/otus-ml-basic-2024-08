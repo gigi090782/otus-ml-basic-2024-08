{
 "cells": [
  {
   "cell_type": "markdown",
   "metadata": {},
   "source": [
    "## Basic ML Homework\n",
    "### Модуль 4: Теоретический минимум для ML: линейная алгебра, начала мат.анализа"
   ]
  },
  {
   "cell_type": "markdown",
   "metadata": {},
   "source": [
    "## 1. Линейная алгебра"
   ]
  },
  {
   "cell_type": "code",
   "execution_count": 4,
   "metadata": {},
   "outputs": [],
   "source": [
    "\n",
    "import numpy as np"
   ]
  },
  {
   "cell_type": "markdown",
   "metadata": {},
   "source": [
    "**1.** Даны матрицы:\n",
    "\n",
    "\n",
    "$A = \\begin{pmatrix}\n",
    "2 & −4 \\\\\n",
    "3 & 5 \\\\\n",
    "−1 & 0 \n",
    "\\end{pmatrix},\n",
    "$\n",
    "$B = \\begin{pmatrix}\n",
    "1 & 2 & 7 \\\\ \n",
    "−3 & −4 & 0 \\\\\n",
    " 5 & 2 & 1 \n",
    "\\end{pmatrix}$, $C = \\begin{pmatrix}\n",
    "6 & −3 & 9 \\\\\n",
    "4 & −5 & 2 \\\\\n",
    "8 & 1 & 5\n",
    "\\end{pmatrix}.$\n",
    "\n",
    "Посчитайте матрицу $D = A^{\\top}C - 2A^{\\top}B^{\\top}$. Приведите полную последовательность вычислений."
   ]
  },
  {
   "cell_type": "markdown",
   "metadata": {},
   "source": [
    "#### Решение:"
   ]
  },
  {
   "cell_type": "markdown",
   "metadata": {},
   "source": [
    "$ \\mathbf{A}^\\intercal = \\begin{pmatrix} 2 & 3 & -1 \\\\ −4 & 5 & 0 \\end{pmatrix} $"
   ]
  },
  {
   "cell_type": "markdown",
   "metadata": {},
   "source": [
    "$ \\mathbf{B}^\\intercal = \\begin{pmatrix} 1 & -3 & 5 \\\\ 2 & -4 & 2 \\\\ 7 & 0 & 1 \\end{pmatrix} $"
   ]
  },
  {
   "cell_type": "markdown",
   "metadata": {},
   "source": [
    "$ \\mathbf{A}^\\intercal \\cdot C = \\begin{pmatrix} \n",
    "2 & 3 & -1 \\\\\n",
    " −4 & 5 & 0 \n",
    " \\end{pmatrix} \\cdot\n",
    "  \\begin{pmatrix}\n",
    "   6 & -3 & 9 \\\\ \n",
    "   4 & -5 & 2 \\\\\n",
    "    8 & 1 & 5 \n",
    "    \\end{pmatrix} =\n",
    "    \\begin{pmatrix} \n",
    "    2\\cdot 6 + 3\\cdot 4 + (-1)\\cdot 8   & 2\\cdot (-3) + 3\\cdot (-5) + (-1)\\cdot 1  & 2\\cdot 9 + 3\\cdot 2 + (-1)\\cdot 5\n",
    "    \\\\  (-4)\\cdot 6 + 5\\cdot 4 + 0\\cdot 8 & (-4)\\cdot (-3) + 5\\cdot (-5) + 0\\cdot 1  & (-4)\\cdot 9 + 5\\cdot 2 + 0\\cdot 5\n",
    "    \\end{pmatrix} =  \\begin{pmatrix} 16 & -22 & 19 \\\\ −4 & -13 & -26 \\end{pmatrix}$"
   ]
  },
  {
   "cell_type": "markdown",
   "metadata": {},
   "source": [
    "$ 2A^{\\top}B^{\\top} = \n",
    "2 \\cdot \\begin{pmatrix} 2 & 3 & -1 \\\\ −4 & 5 & 0 \\end{pmatrix} \\cdot \\begin{pmatrix} 1 & -3 & 5 \\\\ 2 & -4 & 2 \\\\ 7 & 0 & 1 \\end{pmatrix} = 2 \\cdot \\begin{pmatrix} 1 & -18 & 15 \\\\ 6 & -8 & -10 \\end{pmatrix} = \\begin{pmatrix} 2 & -36 & 30 \\\\ 12 & -16 & -20 \\end{pmatrix}$"
   ]
  },
  {
   "cell_type": "markdown",
   "metadata": {},
   "source": [
    "$ \\mathbf{D} = \\begin{pmatrix} 16 & -22 & 19 \\\\ −4 & -13 & -26 \\end{pmatrix} -\n",
    "\\begin{pmatrix} 2 & -36 & 30 \\\\ 12 & -16 & -20 \\end{pmatrix} = \\begin{pmatrix} 14 & 14 & -11 \\\\ −16 & 3 & -6 \\end{pmatrix} $"
   ]
  },
  {
   "cell_type": "markdown",
   "metadata": {},
   "source": [
    "#### Проверка:"
   ]
  },
  {
   "cell_type": "code",
   "execution_count": 24,
   "metadata": {},
   "outputs": [
    {
     "name": "stdout",
     "output_type": "stream",
     "text": [
      "[[ 2 -4]\n",
      " [ 3  5]\n",
      " [-1  0]]\n"
     ]
    }
   ],
   "source": [
    "A = np.array((2, -4, 3, 5, -1, 0))\n",
    "A = np.reshape(A, (3, 2))\n",
    "print(A) "
   ]
  },
  {
   "cell_type": "code",
   "execution_count": 25,
   "metadata": {},
   "outputs": [
    {
     "name": "stdout",
     "output_type": "stream",
     "text": [
      "[[ 1  2  7]\n",
      " [-3 -4  0]\n",
      " [ 5  2  1]]\n"
     ]
    }
   ],
   "source": [
    "B = np.array((1, 2, 7, -3, -4, 0, 5, 2, 1))\n",
    "B = np.reshape(B, (3, 3))\n",
    "print(B)"
   ]
  },
  {
   "cell_type": "code",
   "execution_count": 26,
   "metadata": {},
   "outputs": [
    {
     "name": "stdout",
     "output_type": "stream",
     "text": [
      "[[ 6 -3  9]\n",
      " [ 4 -5  2]\n",
      " [ 8  1  5]]\n"
     ]
    }
   ],
   "source": [
    "C = np.array((6, -3, 9, 4, -5, 2, 8, 1, 5))\n",
    "C = np.reshape(C, (3, 3))\n",
    "print(C)"
   ]
  },
  {
   "cell_type": "code",
   "execution_count": 27,
   "metadata": {},
   "outputs": [
    {
     "name": "stdout",
     "output_type": "stream",
     "text": [
      "[[ 16 -22  19]\n",
      " [ -4 -13 -26]]\n"
     ]
    }
   ],
   "source": [
    "print(A.T @ C)"
   ]
  },
  {
   "cell_type": "code",
   "execution_count": 28,
   "metadata": {},
   "outputs": [
    {
     "name": "stdout",
     "output_type": "stream",
     "text": [
      "[[  2 -36  30]\n",
      " [ 12 -16 -20]]\n"
     ]
    }
   ],
   "source": [
    "print(2 * A.T @ B.T)"
   ]
  },
  {
   "cell_type": "code",
   "execution_count": 29,
   "metadata": {},
   "outputs": [
    {
     "name": "stdout",
     "output_type": "stream",
     "text": [
      "[[ 14  14 -11]\n",
      " [-16   3  -6]]\n"
     ]
    }
   ],
   "source": [
    "D = A.T @ C - 2 * A.T @ B.T\n",
    "print(D)"
   ]
  },
  {
   "cell_type": "markdown",
   "metadata": {},
   "source": [
    "**2** Дано:\n",
    "\n",
    "$ 3 \\cdot \\begin{pmatrix} x & 2 & 3 \\\\ −1 & y & 4 \\end{pmatrix} +\n",
    "2 \\cdot \\begin{pmatrix} 1 & 2 & −5 \\\\ 2 & −6 & z \\end{pmatrix} =\n",
    "\\begin{pmatrix}\n",
    "8 & v & −1 \\\\\n",
    "1 & 6 & 4 \\end{pmatrix}. $\n",
    "\n",
    "Найдите значения x, y, z и v, при которых выражение верно. "
   ]
  },
  {
   "cell_type": "markdown",
   "metadata": {},
   "source": [
    "### Решение:"
   ]
  },
  {
   "cell_type": "markdown",
   "metadata": {},
   "source": [
    "$ 3 \\cdot \\begin{pmatrix} x & 2 & 3 \\\\ −1 & y & 4 \\end{pmatrix} +\n",
    "2 \\cdot \\begin{pmatrix} 1 & 2 & −5 \\\\ 2 & −6 & z \\end{pmatrix} -\n",
    "\\begin{pmatrix}\n",
    "8 & v & −1 \\\\\n",
    "1 & 6 & 4 \\end{pmatrix} =\n",
    "\\begin{pmatrix}\n",
    "0 & 0 & 0 \\\\\n",
    "0 & 0 & 0 \\end{pmatrix} $"
   ]
  },
  {
   "cell_type": "markdown",
   "metadata": {},
   "source": [
    "$ \\begin{pmatrix} 3x + 2 - 8 & 6 + 4 - v & 9 - 10 + 1 \\\\ -3 + 4 - 1 & 3y - 12 - 6 & 12 + 2z - 4 \\end{pmatrix} =\n",
    "\\begin{pmatrix}\n",
    "0 & 0 & 0 \\\\\n",
    "0 & 0 & 0 \\end{pmatrix} $"
   ]
  },
  {
   "cell_type": "markdown",
   "metadata": {},
   "source": [
    "$ \\begin{pmatrix} 3x - 6 & 10 - v & 0 \\\\ 0 & 3y - 18 & 2z + 8 \\end{pmatrix} =\n",
    "\\begin{pmatrix}\n",
    "0 & 0 & 0 \\\\\n",
    "0 & 0 & 0 \\end{pmatrix} $"
   ]
  },
  {
   "cell_type": "markdown",
   "metadata": {},
   "source": [
    "$ \n",
    "    \\begin{aligned}\n",
    "    &3x - 6 = 0 \\\\\n",
    "    &10 - v = 0 \\\\\n",
    "    &3y - 18 = 0 \\\\\n",
    "    &2z + 8 = 0\n",
    "    \\end{aligned}\n",
    "$"
   ]
  },
  {
   "cell_type": "markdown",
   "metadata": {},
   "source": [
    "$ \n",
    "    \\begin{aligned}\n",
    "    &x = 2 \\\\\n",
    "    &v = 10 \\\\\n",
    "    &y = 6 \\\\\n",
    "    &z = -4\n",
    "    \\end{aligned}\n",
    "$"
   ]
  },
  {
   "cell_type": "markdown",
   "metadata": {},
   "source": [
    "#### Проверка:"
   ]
  },
  {
   "cell_type": "code",
   "execution_count": 30,
   "metadata": {},
   "outputs": [
    {
     "name": "stdout",
     "output_type": "stream",
     "text": [
      "[[0 0 0]\n",
      " [0 0 0]]\n"
     ]
    }
   ],
   "source": [
    "Res = 3 * np.reshape(np.array((2, 2, 3, -1, 6, 4)), (2, 3)) + 2 * np.reshape(np.array((1, 2, -5, 2, -6, -4)), (2, 3)) - np.reshape(np.array((8, 10, -1, 1, 6, 4)), (2, 3))\n",
    "print(Res)"
   ]
  },
  {
   "cell_type": "markdown",
   "metadata": {},
   "source": [
    "**3** Относительно канонического (стандартного) базиса в $\\mathbb{R}^2$ даны три вектора $a_1 = (2, −5)^T$, $a_2 = (−1, 3)^T$, $x = (1, −4)^T$. Примите векторы $a_1$, $a_2$ за новый базис $B$, предварительно проверив, что они линейно независимы.\n",
    "- (a) Найдите координаты $[x]_B$ вектора $x$ в новом базисе\n",
    "- (b) Предположим, что координаты вектора $y$ в базисе $B$ заданы $[y]_B = (1, 1)^T$. Найдите координаты вектора $y$ в стандартном базисе."
   ]
  },
  {
   "cell_type": "markdown",
   "metadata": {},
   "source": [
    "##### Проверим линейную независимости векторов $a_1$ и $a_2$:"
   ]
  },
  {
   "cell_type": "markdown",
   "metadata": {},
   "source": [
    "Решим уравнение (1)"
   ]
  },
  {
   "cell_type": "markdown",
   "metadata": {},
   "source": [
    "$ \\lambda_1 \\cdot \\begin{pmatrix} 2 \\\\ -5 \\end{pmatrix} + \\lambda_2 \\cdot \\begin{pmatrix} -1 \\\\ 3 \\end{pmatrix} = \\begin{pmatrix} 0 \\\\ 0 \\end{pmatrix} $ $(1)$"
   ]
  },
  {
   "cell_type": "markdown",
   "metadata": {},
   "source": [
    "Перейдем к системе линейных уравнений:"
   ]
  },
  {
   "cell_type": "markdown",
   "metadata": {},
   "source": [
    "$\n",
    "\\begin{cases}\n",
    "2 \\cdot \\lambda_1  - \\lambda_2 = 0 \\\\\n",
    "-5 \\cdot \\lambda_1 + 3  \\cdot \\lambda_2 = 0\n",
    "\\end{cases}\n",
    "$"
   ]
  },
  {
   "cell_type": "markdown",
   "metadata": {},
   "source": [
    "$\n",
    "\\begin{cases}\n",
    "\\lambda_2 = 2 \\cdot \\lambda_1 \\\\\n",
    "-5 \\cdot \\lambda_1 +  6 \\cdot \\lambda_1 = 0\n",
    "\\end{cases}\n",
    "$"
   ]
  },
  {
   "cell_type": "markdown",
   "metadata": {},
   "source": [
    "$\n",
    "\\begin{cases}\n",
    "\\lambda_2 = 2 \\cdot \\lambda_1 \\\\\n",
    "\\lambda_1 = 0\n",
    "\\end{cases}\n",
    "$"
   ]
  },
  {
   "cell_type": "markdown",
   "metadata": {},
   "source": [
    "$\n",
    "\\begin{cases}\n",
    "\\lambda_2 = 0 \\\\\n",
    "\\lambda_1 = 0\n",
    "\\end{cases}\n",
    "$"
   ]
  },
  {
   "cell_type": "markdown",
   "metadata": {},
   "source": [
    "Данное решение - тривиальное, следовательно векторы являются линейно независимыми"
   ]
  },
  {
   "cell_type": "markdown",
   "metadata": {},
   "source": [
    "(a) Найдите координаты $[x]_B$ вектора $x$ в новом базисе.\n",
    " Для вычисления координат в заданном базисе вектора $x$ необходимо решить следующую систему уравнений:\\\n",
    "\\\n",
    "$\n",
    "\\begin{cases}\n",
    "2 \\cdot \\lambda_1  - \\lambda_2 = 1 \\\\\n",
    "-5 \\cdot \\lambda_1 +  3 \\cdot \\lambda_2 = -4\n",
    "\\end{cases}\n",
    "$\n",
    "\\\n",
    "\\\n",
    "$\n",
    "\\begin{cases}\n",
    "\\lambda_2 = 2 \\cdot \\lambda_1 - 1 \\\\\n",
    "-5 \\cdot \\lambda_1 +  3 \\cdot (2 \\cdot \\lambda_1 - 1) = -4\n",
    "\\end{cases}\n",
    "$\n",
    "\\\n",
    "\\\n",
    "$\n",
    "\\begin{cases}\n",
    "\\lambda_2 = 2 \\cdot \\lambda_1 - 1 \\\\\n",
    "-5 \\cdot \\lambda_1 +  6 \\cdot \\lambda_1 - 3 = -4\n",
    "\\end{cases}\n",
    "$\n",
    "\\\n",
    "\\\n",
    "$\n",
    "\\begin{cases}\n",
    "\\lambda_2 = 2 \\cdot \\lambda_1 - 1 \\\\\n",
    "\\lambda_1 = -1\n",
    "\\end{cases}\n",
    "$\n",
    "\\\n",
    "\\\n",
    "$\n",
    "\\begin{cases}\n",
    "\\lambda_2 = -3 \\\\\n",
    "\\lambda_1 = -1\n",
    "\\end{cases}\n",
    "$\n",
    "\\\n",
    "\\\n",
    "Координаты вектора в новом базисе: $[-1, -3]$\n",
    "\\\n",
    "\\\n",
    "Проверим: $x' = A^{-1} \\cdot x$, где столбцы матрицы $A$ - векторы $a_1$ и $a_2$"
   ]
  },
  {
   "cell_type": "code",
   "execution_count": 12,
   "metadata": {},
   "outputs": [
    {
     "name": "stdout",
     "output_type": "stream",
     "text": [
      "[[ 2 -1]\n",
      " [-5  3]]\n"
     ]
    }
   ],
   "source": [
    "A = np.array((2, -1, -5, 3))\n",
    "A = np.reshape(A, (2, 2))\n",
    "print(A)"
   ]
  },
  {
   "cell_type": "code",
   "execution_count": 13,
   "metadata": {},
   "outputs": [
    {
     "name": "stdout",
     "output_type": "stream",
     "text": [
      "[[3. 1.]\n",
      " [5. 2.]]\n"
     ]
    }
   ],
   "source": [
    "\n",
    "A = np.linalg.inv(A)\n",
    "print(A)"
   ]
  },
  {
   "cell_type": "code",
   "execution_count": 14,
   "metadata": {},
   "outputs": [
    {
     "name": "stdout",
     "output_type": "stream",
     "text": [
      "[[ 1]\n",
      " [-4]]\n"
     ]
    }
   ],
   "source": [
    "\n",
    "B = np.reshape(np.array((1, -4)), (2, 1))\n",
    "print(B)"
   ]
  },
  {
   "cell_type": "code",
   "execution_count": 15,
   "metadata": {},
   "outputs": [
    {
     "name": "stdout",
     "output_type": "stream",
     "text": [
      "[[-1.]\n",
      " [-3.]]\n"
     ]
    }
   ],
   "source": [
    "\n",
    "print(np.dot(A,B))"
   ]
  },
  {
   "cell_type": "markdown",
   "metadata": {},
   "source": [
    "(b) Предположим, что координаты вектора $y$ в базисе $B$ заданы $[y]_B = (1, 1)^T$. Найдите координаты вектора $y$ в стандартном базисе."
   ]
  },
  {
   "cell_type": "markdown",
   "metadata": {},
   "source": [
    "Выразим векторы стандартного базиса через базис $B$.\n",
    " Решим две системы уровнений для двух базисных вектора $[1, 0]^T$ и $[0, 1]^T$:\n",
    "\\\n",
    "\\\n",
    "$\n",
    "\\begin{cases}\n",
    "2 \\cdot \\lambda_1  - \\lambda_2 = 1 \\\\\n",
    "-5 \\cdot \\lambda_1 +  3 \\cdot \\lambda_2 = 0\n",
    "\\end{cases}\n",
    "$\n",
    "и\n",
    "$\n",
    "\\begin{cases}\n",
    "2 \\cdot \\lambda_1  - \\lambda_2 = 0 \\\\\n",
    "-5 \\cdot \\lambda_1 +  3 \\cdot \\lambda_2 = 1\n",
    "\\end{cases}\n",
    "$\n"
   ]
  },
  {
   "cell_type": "markdown",
   "metadata": {},
   "source": [
    "$\n",
    "\\begin{cases}\n",
    "\\lambda_2 = 2 \\cdot \\lambda_1 - 1 \\\\\n",
    "-5 \\cdot \\lambda_1 +  6 \\cdot \\lambda_1 -3 = 0\n",
    "\\end{cases}\n",
    "$\n",
    "и\n",
    "$\n",
    "\\begin{cases}\n",
    "\\lambda_2  = 2 \\cdot \\lambda_1  \\\\\n",
    "-5 \\cdot \\lambda_1 +  6 \\cdot \\lambda_1 = 1\n",
    "\\end{cases}\n",
    "$"
   ]
  },
  {
   "cell_type": "markdown",
   "metadata": {},
   "source": [
    "$\n",
    "\\begin{cases}\n",
    "\\lambda_2 = 5 \\\\\n",
    "\\lambda_1 = 3\n",
    "\\end{cases}\n",
    "$\n",
    "и\n",
    "$\n",
    "\\begin{cases}\n",
    "\\lambda_2  = 2  \\\\\n",
    "\\lambda_1  = 1\n",
    "\\end{cases}\n",
    "$"
   ]
  },
  {
   "cell_type": "markdown",
   "metadata": {},
   "source": [
    "Получим векторы стандартного базиса в базисе $B$: $(3, 5)^T$ и $(1, 2)^T$. \\\n",
    "Чтобы найти координаты вектора $y$ в стандартном базисе нужно решить следующую систему уравнений:\\\n",
    "\\\n",
    "$\n",
    "\\begin{cases}\n",
    "3 \\cdot \\lambda_1  + \\lambda_2 = 1 \\\\\n",
    "5 \\cdot \\lambda_1 +  2 \\cdot \\lambda_2 = 1\n",
    "\\end{cases}\n",
    "$\n",
    "\\\n",
    "\\\n",
    "$\n",
    "\\begin{cases}\n",
    "\\lambda_2 = 1- 3 \\cdot \\lambda_1 \\\\\n",
    "5 \\cdot \\lambda_1 + 2 - 6 \\cdot \\lambda_1 = 1\n",
    "\\end{cases}\n",
    "$\\\n",
    "\\\n",
    "$\n",
    "\\begin{cases}\n",
    "\\lambda_2  = -2 \\\\\n",
    "\\lambda_1  = 1\n",
    "\\end{cases}\n",
    "$\n",
    "\\\n",
    "\\\n",
    "Решением сситемы уравнений являются: $\\lambda_1=1$ и $\\lambda_2=-2$. Таким образом $[y]=(1, -2)^T$"
   ]
  },
  {
   "cell_type": "markdown",
   "metadata": {},
   "source": [
    "**4** Исследовательское задание: малоранговая аппроксимация матрицы. Сгенерируйте случайную квадратную матрицу $A ∈ $ $\\mathbb {R} ^{n×n}$, $n ≥ 100$. Выполните сингулярное разложение этой матрицы, и получите три матрицы: $U$, $S$, $V^⊤$. Выполняйте аппроксимацию матрицы $A$ с рангом $r$, меняя его значение, например, от $2$ до $n$:\n",
    "$$ \n",
    "\\tilde{A} = U[:, :r]S[:r, :r]V^T[:r, :],\n",
    "$$\n",
    "и каждый раз считайте ошибку апроксимации (как восстановленная матрица отличается от исходной):\n",
    "$$\n",
    "E(r)= \\|A-\\tilde{A}\\|_F=\\sqrt{\\sum_{i=1}^n{\\sum_{j=1}^n{(a_{ij}-\\tilde{a}_{ij})^2}}}\n",
    "$$\n",
    "Используя библиотеку *matplotlib*, постройте график зависимости ошибки аппроксимации матрицы от ранга $r$."
   ]
  },
  {
   "cell_type": "code",
   "execution_count": 36,
   "metadata": {},
   "outputs": [
    {
     "name": "stdout",
     "output_type": "stream",
     "text": [
      "[[483 661 918 ... 841 712 151]\n",
      " [520 479 818 ... 321 442 341]\n",
      " [656 457 289 ... 430 195  45]\n",
      " ...\n",
      " [877  28 936 ... 727 807 559]\n",
      " [759 647 888 ... 433 725 821]\n",
      " [770 544 376 ... 370 348 688]]\n"
     ]
    }
   ],
   "source": [
    "n= 100\n",
    "A = np.random.randint(1, 1000, size=(n,n))\n",
    "print(A)"
   ]
  },
  {
   "cell_type": "code",
   "execution_count": 37,
   "metadata": {},
   "outputs": [],
   "source": [
    "U, s, VT = np.linalg.svd(A)\n",
    "S=np.zeros_like(A, dtype=float)\n",
    "S[np.diag_indices(min(A.shape))]=s\n"
   ]
  },
  {
   "cell_type": "code",
   "execution_count": null,
   "metadata": {},
   "outputs": [],
   "source": [
    "rank_min = 2\n",
    "rank = range(rank_min, n+1)\n",
    "error = np.zeros(n-rank_min+1)\n",
    "for r in range(rank_min,n+1):  \n",
    "  AR = U[:,:r] @ S[:r,:r] @ VT[:r,:]\n",
    "  error[r-rank_min] = np.sqrt(np.sum((A-AR)**2))\n"
   ]
  },
  {
   "cell_type": "code",
   "execution_count": 42,
   "metadata": {},
   "outputs": [],
   "source": [
    "import matplotlib.pyplot as plt"
   ]
  },
  {
   "cell_type": "code",
   "execution_count": 52,
   "metadata": {},
   "outputs": [
    {
     "data": {
      "text/plain": [
       "Text(0.5, 1.0, 'Малоранговая аппроксимация матрицы')"
      ]
     },
     "execution_count": 52,
     "metadata": {},
     "output_type": "execute_result"
    },
    {
     "data": {
      "image/png": "[encoded data removed]",
      "text/plain": [
       "<Figure size 2000x1000 with 1 Axes>"
      ]
     },
     "metadata": {},
     "output_type": "display_data"
    }
   ],
   "source": [
    "plt.figure(figsize=(20,10))\n",
    "plt.plot(rank, error)\n",
    "plt.xlabel('Ранг')\n",
    "plt.ylabel('Ошибка аппроксимации матрицы')\n",
    "plt.title('Малоранговая аппроксимация матрицы')"
   ]
  },
  {
   "cell_type": "markdown",
   "metadata": {},
   "source": [
    "## 2. Начала мат.анализа и оптимизации"
   ]
  },
  {
   "cell_type": "markdown",
   "metadata": {},
   "source": [
    "**1.**. Посчитайте градиент следующей функции:\n",
    "$$\n",
    "    f(x,y) = x_1^3 - 2x_1x_2 + x_2^2 - 3x_1 - 2x_2, \n",
    "$$\n",
    " $x ∈ $ $\\mathbb {R} ^{2}$\n",
    "\n",
    "Найдем градиент функции: "
   ]
  },
  {
   "cell_type": "markdown",
   "metadata": {},
   "source": [
    " $∇f(x_1,x_2)  =  \\begin{pmatrix} \\frac{\\partial f}{\\partial x_1} \\\\ \\frac{\\partial f}{\\partial x_2} \\end{pmatrix} =  \\begin{pmatrix} 3x_1^2 - 2x_2 - 3 \\\\ -2x_1 +2x_2 - 2 \\end{pmatrix}\n",
    "$\n",
    "\n"
   ]
  },
  {
   "cell_type": "markdown",
   "metadata": {},
   "source": [
    "Найдем критические точки $x_c$, такие что $∇f(x_c) = 0$."
   ]
  },
  {
   "cell_type": "markdown",
   "metadata": {},
   "source": [
    "$\n",
    "\\begin{cases}\n",
    "\\frac{\\partial f}{\\partial x_1} = 0 \\\\\n",
    "\\frac{\\partial f}{\\partial x_2} = 0\n",
    "\\end{cases}\n",
    "\\Leftrightarrow\n",
    "\\begin{cases}\n",
    "3x_1^2-2x_2-3 = 0 \\\\\n",
    "-2x_1+2x_2-2 = 0\n",
    "\\end{cases}\n",
    "\\Leftrightarrow\n",
    "\\begin{cases}\n",
    "3x_1^2-2x_1-2-3 = 0 \\\\\n",
    "2x_2 = 2x_1+2\n",
    "\\end{cases}\n",
    "\\Leftrightarrow\n",
    "\\begin{cases}\n",
    "3x_1^2-2x_1-5 = 0 \\\\\n",
    "x_2 = x_1+1\n",
    "\\end{cases}\n",
    "\\Rightarrow\n",
    "\\begin{cases}\n",
    "x_{1}=-1, x_{2}=0 \\\\\n",
    "x_{1}=\\frac{5}{3}, x_{2}=\\frac{8}{3}\n",
    "\\end{cases}\n",
    "$"
   ]
  },
  {
   "cell_type": "markdown",
   "metadata": {},
   "source": [
    "#### Критические точки:\n",
    "\n",
    "$ ( \\frac{ 5 }{ 3 } , \\frac{ 8 }{ 3 } ) $ и $ ( -1 , 0 ) $  "
   ]
  },
  {
   "cell_type": "markdown",
   "metadata": {},
   "source": [
    "**2**. Проверьте, что функция $f = \\ln(\\sqrt{x_1} + \\sqrt{x_2})$ удовлетворяет уравнению:\n",
    "\n",
    "$$\n",
    "x_1 \\frac{\\partial f}{\\partial x_1} + x_2 \\frac{\\partial f}{\\partial x_2} = \\frac{1}{2}.\n",
    "$$"
   ]
  },
  {
   "cell_type": "markdown",
   "metadata": {},
   "source": [
    "$ \\ln g(x) = \\frac{1}{g(x)} \\cdot g'(x) $  "
   ]
  },
  {
   "cell_type": "markdown",
   "metadata": {},
   "source": [
    "Частные производные от функции:\n",
    "\n",
    "$ \\frac{\\partial f}{\\partial x_1} = \\frac{1}{(\\sqrt{x_1} + \\sqrt{x_2})} \\cdot \\frac{1}{2 \\sqrt{x_1}} =\n",
    "\\frac{1}{2 \\sqrt{x_1} (\\sqrt{x_1} + \\sqrt{x_2})}$  \n",
    "\n",
    "$ \\frac{\\partial f}{\\partial x_2} = \\frac{1}{(\\sqrt{x_1} + \\sqrt{x_2})} \\cdot \\frac{1}{2\\sqrt{x_2}} =\n",
    "\\frac{1}{2 \\sqrt{x_2} (\\sqrt{x_1} + \\sqrt{x_2})}$"
   ]
  },
  {
   "cell_type": "markdown",
   "metadata": {},
   "source": [
    "Тогда:\n",
    "\n",
    "$ x_1 \\frac{\\partial f}{\\partial x_1} + x_2 \\frac{\\partial f}{\\partial x_2} =\n",
    "x_1 \\cdot \\frac{1}{2 \\sqrt{x_1} (\\sqrt{x_1} + \\sqrt{x_2})} + x_2 \\cdot \\frac{1}{2 \\sqrt{x_2} (\\sqrt{x_1} + \\sqrt{x_2})} = $  \n",
    "\n",
    "$ = \\frac{x_1}{2 \\sqrt{x_1} (\\sqrt{x_1} + \\sqrt{x_2})} + \\frac{x_2}{2 \\sqrt{x_2} (\\sqrt{x_1} + \\sqrt{x_2})} = \\frac{ \\sqrt{x_1} }{2 (\\sqrt{x_1} + \\sqrt{x_2})} + \\frac{\\sqrt{x_2}}{2 (\\sqrt{x_1} + \\sqrt{x_2})} =\n",
    "\\frac{ \\sqrt{x_1} + \\sqrt{x_2} }{2 (\\sqrt{x_1} + \\sqrt{x_2})} = \\frac{1}{2}$  "
   ]
  },
  {
   "cell_type": "markdown",
   "metadata": {},
   "source": [
    " Таким образом, функция удовлетворяет уравнению"
   ]
  },
  {
   "cell_type": "markdown",
   "metadata": {},
   "source": [
    "**3**. Предположим, задана функция $f: \\mathbb{R}^3 \\rightarrow \\mathbb{R}$\n",
    "\n",
    "$$\n",
    "   f(x, y, z) = x + y + z + (xyz)^2\n",
    "\n",
    "$$\n",
    "\n",
    "   Найдите вектор градиента функции $f$, и его численное значение в точке $v$ = (1, 2, 3)⊤."
   ]
  },
  {
   "cell_type": "markdown",
   "metadata": {},
   "source": [
    "##### Найдем градиент функции $f$:"
   ]
  },
  {
   "cell_type": "markdown",
   "metadata": {},
   "source": [
    " $∇f(x,y,z)  =  \\begin{pmatrix} \\frac{\\partial f}{\\partial x} \\\\ \\frac{\\partial f}{\\partial y} \\\\ \\frac{\\partial f}{\\partial z} \\end{pmatrix} =  \\begin{pmatrix} 1 + 2x(yz)^2 \\\\ 1 + 2y(xz)^2 \\\\ 1 + 2z(yx)^2 \\end{pmatrix}\n",
    "$"
   ]
  },
  {
   "cell_type": "markdown",
   "metadata": {},
   "source": [
    "Найдем ∇f(x,y,z) в точке $v$ = (1, 2, 3)⊤"
   ]
  },
  {
   "cell_type": "markdown",
   "metadata": {},
   "source": [
    " $∇f_v(x,y,z)  =  \\begin{pmatrix} 73 \\\\ 37 \\\\ 25 \\end{pmatrix}\n",
    "$\n"
   ]
  },
  {
   "cell_type": "markdown",
   "metadata": {},
   "source": [
    "Найдем численное значение $∇f(x,y,z) в точке $v$ = (1, 2, 3)⊤\n",
    "\n",
    "\n",
    "||∇f(x,y,z)|| = $ \\sqrt{73^2 + 37^2 +25^2} = 85.57$"
   ]
  },
  {
   "cell_type": "markdown",
   "metadata": {},
   "source": [
    "**4**. (Куб евклидовой нормы). ). Найти первый дифференциал $df(x)$, а также градиент $∇f(x)$ функции:\n",
    "\n",
    "$$\n",
    "f(x) = \\frac{1}{3}\\|x\\|_2^3, x ∈ R^n\\backslash\\lbrace 0 \\rbrace\n",
    "$$\n"
   ]
  },
  {
   "cell_type": "markdown",
   "metadata": {},
   "source": [
    "##### Найдем первый дифференциал $df(x)$\n",
    "\n",
    "$\\|x\\|_2^3=<x, x>^\\frac{3}{2}$, \n",
    "$\n",
    "d(f(x))=d(\\frac{1}{3}<x, x>^\\frac{3}{2})=\\frac{1}{3}\\frac{3}{2}(<x, x>^{\\frac{1}{2}})d(<x, x>)\n",
    "$\n",
    "\\\n",
    "\\\n",
    "Так как $d(<x,x>)=<2x,dx>$, то\n",
    "\\\n",
    "\\\n",
    "$\n",
    "d(f(x))=\\frac{1}{2}\\|x\\|_{2}<2x,dx>=<\\|x\\|_{2}x,dx>\n",
    "$\n",
    "\\\n",
    "\\\n",
    "$\n",
    "d(f(x))=<\\|x\\|_{2}x, dx>\n",
    "$"
   ]
  },
  {
   "cell_type": "markdown",
   "metadata": {},
   "source": [
    "##### Градиент\n",
    "Из канонической формы $ df(x) = ( \\nabla f(x), dx )  $      $\n",
    "=<\\|x\\|_{2}x, dx>\n",
    "$\n",
    "\\\n",
    " получаем градиент:   $$ \\mathnormal \\nabla f(x) = \\|x\\|_{2}x$$\n"
   ]
  },
  {
   "cell_type": "markdown",
   "metadata": {},
   "source": [
    "**5**. (Квадрат Евклидовой нормы). Найдите первый дифференциал $df(x)$, и градиент  $∇f(x)$  функции:\n",
    "$$\n",
    "f(x) = \\|Ax\\|_2^2, x ∈ R^n \\backslash \\lbrace 0 \\rbrace, A ∈ R^{m×n}\n",
    "$$"
   ]
  },
  {
   "cell_type": "markdown",
   "metadata": {},
   "source": [
    "\n",
    "$\\|Ax\\|_2^2=<Ax, Ax>$,\n"
   ]
  },
  {
   "cell_type": "markdown",
   "metadata": {},
   "source": [
    "\n",
    "тогда\n",
    "$d(f(x))=d(<Ax, Ax>)=<dAx, Ax> + <Ax, dAx> = <Adx, Ax> + <Ax, Adx> = <Ax + Ax, Adx> = <2Ax, Adx> = \\ <2A^TAx, dx> \n",
    "$"
   ]
  },
  {
   "cell_type": "markdown",
   "metadata": {},
   "source": [
    "##### Градиент\n",
    "\n",
    "Согласно канонической форме, $∇f(x)=2A^TAx$"
   ]
  }
 ],
 "metadata": {
  "kernelspec": {
   "display_name": "Python 3",
   "language": "python",
   "name": "python3"
  },
  "language_info": {
   "codemirror_mode": {
    "name": "ipython",
    "version": 3
   },
   "file_extension": ".py",
   "mimetype": "text/x-python",
   "name": "python",
   "nbconvert_exporter": "python",
   "pygments_lexer": "ipython3",
   "version": "3.12.5"
  }
 },
 "nbformat": 4,
 "nbformat_minor": 2
}
