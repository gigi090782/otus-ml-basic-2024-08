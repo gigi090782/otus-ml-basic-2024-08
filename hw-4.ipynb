{
 "cells": [
  {
   "cell_type": "markdown",
   "metadata": {},
   "source": [
    "# <center> ДЗ на тему урока - Функции </center>"
   ]
  },
  {
   "cell_type": "markdown",
   "metadata": {},
   "source": [
    "# Задачи"
   ]
  },
  {
   "cell_type": "markdown",
   "metadata": {},
   "source": [
    "## Задача 1\n",
    "Написать функцию, которая будет переводит снейк_кейс в КэмелКейс и наоборот. Функция сама определяет - какой формат ей передали. Можно добавить ключевой аргумент, который будет принудительно возвращать один из форматов.\n",
    "Пример:\n",
    "otus_course -> OtusCourse\n",
    "PythonIsTheBest -> python_is_the_best"
   ]
  },
  {
   "cell_type": "code",
   "execution_count": 1,
   "metadata": {},
   "outputs": [],
   "source": [
    "from enum import Enum\n\nclass Code_style(Enum):\n    CAMEL = 1\n    SNAKE = 2\n    UNDEFINED = 3\n\ndef check_upper_case (input_string: str) -> bool:\n    \"\"\"\n    Функция для проверки наличия букв в верхнем регистре\n    :param input_string: входная строка\n    :return: True/False\n    \"\"\"\n    for symbol in input_string:\n        if symbol.isupper():\n            return True\n    return False\n\ndef get_code_style(input_string: str) -> Code_style:\n    \"\"\"\n    Функция для определения стиля кода\n    :param input_string: входная строка\n    :return: стиль кода\n    \"\"\"\n    if input_string.find(\"_\") != -1:\n        return Code_style.SNAKE\n    elif check_upper_case (input_string):\n        return Code_style.CAMEL\n    return Code_style.UNDEFINED\n\ndef convert_to_snake_case (input_string: str) -> str:\n    \"\"\"\n    Функция для преобразования входной строки к стилю snake_case\n    :param input_string: входная строка\n    :return: преобразованная строка\n    \"\"\"\n    result_string = input_string[0].lower()\n    index = 1\n    while index < len(input_string):\n        if str(input_string[index]).isupper():\n            result_string += \"_\"\n        result_string+=input_string[index].lower()\n        index += 1\n    return result_string\n\n\ndef convert_to_camel_case (input_string: str) -> str:\n    \"\"\"\n    Функция для преобразования входной строки к стилю camel_case\n    :param input_string: входная строка\n    :return: преобразованная строка\n    \"\"\"\n    result_string = input_string[0].upper()\n    index = 1\n    while index < len(input_string):\n        if input_string[index] != \"_\":\n            result_string += input_string[index]\n        else:\n            index +=1\n            result_string+=input_string[index].upper()\n        index += 1\n    return result_string\n\ndef change_code_style(input_string: str, need_revert: bool = True, code_style: Code_style = Code_style.CAMEL) -> str:\n    \"\"\"\n    Функция изменяющая стиль кода для введенной строки\n    :param input_string: входная строка\n    :param need_revert: необходимость конвертировать snake_case->camel_case и camel_case->snake_case\n    :param code_style: если задано need_revert = False, то учитывается параметр code_style для принудительного преобразования в выбранный стиль\n    :return: преобразованная строка\n    \"\"\"\n    input_string_code_style = get_code_style(input_string)\n    if not need_revert:\n        if code_style == input_string_code_style:\n            return input_string\n        elif code_style == Code_style.CAMEL:\n            return convert_to_camel_case(input_string)\n        elif code_style == Code_style.SNAKE:\n            return convert_to_snake_case(input_string)\n        else:\n            raise Exception(\"Неверные данные!\")\n    else:\n        if input_string_code_style == Code_style.CAMEL:\n            return convert_to_snake_case(input_string)\n        elif input_string_code_style == Code_style.SNAKE:\n            return convert_to_camel_case(input_string)\n        else:\n            raise Exception(\"Неверные данные!\")\n\nassert change_code_style(\"otus_course\", True) == \"OtusCourse\", \"Неверное преобразование\"\nassert change_code_style(\"PythonIsTheBest\", True) == \"python_is_the_best\", \"Неверное преобразование\"\nassert change_code_style(\"otus_course\", False, Code_style.CAMEL) == \"OtusCourse\", \"Неверное преобразование\"\nassert change_code_style(\"otus_course\", False, Code_style.SNAKE) == \"otus_course\", \"Неверное преобразование\""
   ]
  },
  {
   "cell_type": "markdown",
   "metadata": {},
   "source": [
    "## Задача 2\n",
    "\n",
    "Написать функцию проверяющую валидность введенной даты.\nПример:\n29.02.2000 -> True\n29.02.2001 -> False\n31.04.1962 -> False"
   ]
  },
  {
   "cell_type": "code",
   "execution_count": 2,
   "metadata": {},
   "outputs": [],
   "source": [
    "\n\nlist_month_days = [31,28,31,30,31,30,31,31,30,31,30,31]\n\ndef validate_is_date_format_string(input_date_string:str) -> bool:\n    index = 0\n    input_date_string = input_date_string.strip()\n    while index<len(input_date_string):\n        if index==2 or index == 5:\n            if input_date_string[index]!=\".\":\n                return False\n        else:\n            if not input_date_string[index].isnumeric():\n                return False\n        index += 1\n    return True\n\ndef is_leap_year(day: int, month: int, year: int)-> bool:\n    if month == 2:\n       if year%400 == 0:\n           return True\n       elif year % 100 == 0:\n           return day <= False\n       elif year % 4 == 0:\n            return day <= True\n    return False\n\ndef validate_date(input_date_string:str) ->bool:\n    if not validate_is_date_format_string(input_date_string):\n        return False\n    date_list = input_date_string.strip().split(\".\")\n    day = int(date_list[0])\n    month = int(date_list[1])\n    year = int(date_list[2])\n    if is_leap_year(day,month,year):\n       return day <= list_month_days[month - 1] + 1\n    return day <= list_month_days[month - 1]\n\nassert validate_date(\"29.02.2000\") == True, \"Неверная проверка\"\nassert validate_date(\"29.02.2001\") == False, \"Неверная проверка\"\nassert validate_date(\"31.04.1962\") == False, \"Неверная проверка\"\nassert validate_date(\"3в.04.1962\") == False, \"Неверная проверка\"\n\n\n"
   ]
  },
  {
   "cell_type": "markdown",
   "metadata": {},
   "source": [
    "## Задача 3\n",
    "Функция проверки на простое число. Простые числа – это такие числа, которые делятся на себя и на единицу.\nПример:\n17 -> True\n20 -> False\n23 -> True"
   ]
  },
  {
   "cell_type": "code",
   "execution_count": 3,
   "metadata": {},
   "outputs": [],
   "source": [
    "def is_simple_number(number : int)-> bool:\n    if number == 1 or number == 2:\n        return True\n    for i in range(2,number):\n        if number%i == 0:\n            return False\n    return True\n\nassert is_simple_number(1) == True, \"Неверная проверка\"\nassert is_simple_number(2) == True, \"Неверная проверка\"\nassert is_simple_number(17) == True, \"Неверная проверка\"\nassert is_simple_number(20) == False, \"Неверная проверка\"\nassert is_simple_number(23) == True, \"Неверная проверка\"\n"
   ]
  },
  {
   "cell_type": "markdown",
   "metadata": {},
   "source": [
    "## Задача 4\n",
    "Пользователь в бесконечном цикле вводит данные пользователей: имя, затем фамилию, возраст и ID. Ввод продолжается до тех пор, пока не будет введено пустое поле. Пользователи заносятся в словарь, где ключ это ID пользователя, а остальные данные записываются в виде кортежа. Так же программа должна проверять, что имя и фамилия состоят только из символов и начинаются с большой буквы, если не с большой, то заменяет на большую, возраст должен быть числом от 18 до 60, ID - целое число, дополненное до 8 знаков незначащими нолями, ID должен быть уникальным\nДополнительно написать функцию, которая будет выводить полученный словарь в виде таблицы"
   ]
  },
  {
   "cell_type": "code",
   "execution_count": 4,
   "metadata": {},
   "outputs": [],
   "source": [
    "result_dict = dict()\nright_symbols_for_name = 'abcdefghijklmnopqrstuvwxyzабвгдеёжзийклмнопрстуфхцчшщьъэюя -'\n\ndef get_correct_name(input_name:str)->str:\n    while input_name.find(\"  \")!=-1:\n        input_name = input_name.replace(\"  \",\" \")\n    while input_name.find(\"--\") != -1:\n        input_name = input_name.replace(\"--\", \"-\")\n    while input_name.find(\"- \") != -1:\n        input_name = input_name.replace(\"- \", \"-\")\n    while input_name.find(\" -\") != -1:\n        input_name = input_name.replace(\" -\", \"-\")\n    result_string = input_name[0].upper()\n    if len(input_name) > 1:\n        index = 1\n        while index < len(input_name):\n            if ((input_name[index] != \" \" and input_name[index-1] == \" \") or\n                (input_name[index] != \"-\" and input_name[index-1] == \"-\")):\n                result_string += input_name[index].upper()\n            else:\n                result_string += input_name[index]\n            index += 1\n    return result_string\n\ndef validate_name(input_text:str, input_text_name:str):\n    if len(input_text) == 0:\n        raise Exception(f\"Отсутствует значение для {input_text_name}!\")\n    for symbol in input_text:\n        if right_symbols_for_name.find(symbol.lower()) == -1:\n            raise Exception(f\"Введен недопустимый символ {symbol} в {input_text_name}!\")\n\ndef validate_input_data(input_list):\n    if len(input_list) != 4:\n        raise Exception(\"Введено недостаточное количество значений!\")\n    validating_user_id = str(input_list[3]).strip()\n    if not validating_user_id.isnumeric() or validating_user_id.find(\".\") != -1 or len(validating_user_id) > 8:\n        raise Exception(\"Неверно введен ID пользователя\")\n    age = str(input_list[2]).strip()\n    if not age.isnumeric() or age.find(\".\") != -1:\n        raise Exception(\"Неверно введен возраст пользователя: должен быть целым числом\")\n    if int(age)<18 or int(age)>60:\n        raise Exception(\"Возраст пользователя должен быть от 18 до 60\")\n    validate_name(input_list[0].strip(), \"имени\")\n    validate_name(input_list[1].strip(), \"фамилии\")\n\ndef get_correct_user_id(input_user_id:str)->str:\n    if len(input_user_id)==8:\n        return user_id\n    return \"0\"*(8-len(input_user_id))+input_user_id\n\ndef get_value_for_print(value:str, count_symbols:int)->str:\n    if len(value)==count_symbols:\n        return value\n    return value+\" \"* (count_symbols-len(value))\n\ndef get_max_size_field(field_index:int)->int:\n    max_size_field = -1\n    for key, value in result_dict.items():\n        if len(str(value[field_index]))>max_size_field:\n            max_size_field=len(str(value[field_index]))\n    return max_size_field\n\ndef print_result_dict():\n    if len(result_dict) == 0:\n        raise Exception(\"Отсутствуют данные для печати!\")\n    max_size_name = get_max_size_field(0)\n    max_size_surname = get_max_size_field(1)\n    common_len_table = 20+max_size_name+max_size_surname\n    print(\"-\"*common_len_table)\n    print(\"|ID      |\"+get_value_for_print(\"Имя\",max_size_name)+\"|\"+get_value_for_print(\"Фамилия\",max_size_surname)\n          +\"|Возраст|\")\n    for key, value in sorted(result_dict.items()):\n        print(\"|\"+key+\"|\"+get_value_for_print(str(value[0]), max_size_name)+\"|\"\n              +get_value_for_print(str(value[1]), max_size_surname)+\"|\"\n              +str(value[2])+\" \"*5+\"|\")\n    print(\"-\"*common_len_table)\n\nprint(\"Введите данные пользователя через запятую: имя, фамилия, возраст и ID\")\nwhile True:\n    input_string = input()\n    if len(input_string) == 0:\n        break\n    split_string = input_string.strip().split(\",\")\n    validate_input_data(split_string)\n    user_id = get_correct_user_id(split_string[3].strip())\n    name = get_correct_name(split_string[0].strip())\n    surname = get_correct_name(split_string[1].strip())\n    if result_dict.get(user_id) is not None:\n        raise Exception(\"Введено неуникальное значение ID!\")\n    result_dict.update({user_id:(name, surname, int(split_string[2].strip()))})\nprint_result_dict()"
   ]
  }
 ],
 "metadata": {
  "kernelspec": {
   "display_name": "Python 3 (ipykernel)",
   "language": "python",
   "name": "python3"
  },
  "language_info": {
   "codemirror_mode": {
    "name": "ipython",
    "version": 3
   },
   "file_extension": ".py",
   "mimetype": "text/x-python",
   "name": "python",
   "nbconvert_exporter": "python",
   "pygments_lexer": "ipython3",
   "version": "3.10.12"
  },
  "varInspector": {
   "cols": {
    "lenName": 16,
    "lenType": 16,
    "lenVar": 40
   },
   "kernels_config": {
    "python": {
     "delete_cmd_postfix": "",
     "delete_cmd_prefix": "del ",
     "library": "var_list.py",
     "varRefreshCmd": "print(var_dic_list())"
    },
    "r": {
     "delete_cmd_postfix": ") ",
     "delete_cmd_prefix": "rm(",
     "library": "var_list.r",
     "varRefreshCmd": "cat(var_dic_list()) "
    }
   },
   "types_to_exclude": [
    "module",
    "function",
    "builtin_function_or_method",
    "instance",
    "_Feature"
   ],
   "window_display": false
  }
 },
 "nbformat": 4,
 "nbformat_minor": 2
}
