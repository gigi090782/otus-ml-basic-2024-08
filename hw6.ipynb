{
 "cells": [
  {
   "cell_type": "markdown",
   "metadata": {},
   "source": [
    "# <center> Homework 6 </center>"
   ]
  },
  {
   "cell_type": "code",
   "execution_count": null,
   "metadata": {},
   "outputs": [],
   "source": [
    "# autoreload позволяет нам подгружать изменения во внешнем коде\n",
    "# без необходимости перезагружать kernel у ноутбука\n",
    "%load_ext autoreload\n",
    "%autoreload 2"
   ]
  },
  {
   "cell_type": "markdown",
   "metadata": {},
   "source": [
    "## 1) Exceptions\n",
    "В модуле `exceptions` объявите следующие исключения:\n",
    "- LowFuelError\n",
    "- NotEnoughFuel\n",
    "- CargoOverload"
   ]
  },
  {
   "cell_type": "code",
   "execution_count": null,
   "metadata": {},
   "outputs": [],
   "source": [
    "class LowFuelError(Exception):\n",
    "    pass\n",
    "\n",
    "class NotEnoughFuel(Exception):\n",
    "    pass\n",
    "\n",
    "class CargoOverload(Exception):\n",
    "    pass"
   ]
  },
  {
   "cell_type": "markdown",
   "metadata": {},
   "source": [
    "## 2) Vehicle \n",
    "\n",
    "<img src=\"https://cs.pikabu.ru/images/big_size_comm/2013-12_4/13874526438897.jpg\" width=300>\n",
    "\n",
    "Доработайте базовый класс `Vehicle`:\n",
    "- добавьте атрибуты `weight`, `started`, `fuel`, `fuel_consumption` со значениями по умолчанию\n",
    "- добавьте инициализатор для установки `weight`, `fuel`, `fuel_consumption`\n",
    "- добавьте метод `start`, который, если ещё не состояние `started`, проверяет, что топлива больше нуля, \n",
    "  и обновляет состояние `started`, иначе выкидывает исключение `exceptions.LowFuelError`\n",
    "- добавьте метод `move`, который проверяет, \n",
    "  что достаточно топлива для преодоления переданной дистанции, \n",
    "  и изменяет количество оставшегося топлива, иначе выкидывает исключение `exceptions.NotEnoughFuel`"
   ]
  },
  {
   "cell_type": "code",
   "execution_count": 1,
   "metadata": {},
   "outputs": [],
   "source": [
    "from abc import ABC\n",
    "from exceptions import LowFuelError, NotEnoughFuel\n",
    "\n",
    "\n",
    "class Vehicle(ABC):\n",
    "\n",
    "    DEFAULT_WEIGHT = 2000\n",
    "    DEFAULT_FUEL = 45.0\n",
    "    DEFAULT_FUEL_CONSUMPTION = 15.0\n",
    "\n",
    "    def __init__(self, weight=DEFAULT_WEIGHT, fuel=DEFAULT_FUEL, fuel_consumption=DEFAULT_FUEL_CONSUMPTION):\n",
    "        self._weight = weight\n",
    "        self._fuel = fuel\n",
    "        self._fuel_consumption = fuel_consumption\n",
    "        if self.fuel > 0.0:\n",
    "            self._started = True\n",
    "        else:\n",
    "            raise LowFuelError\n",
    "\n",
    "    @property\n",
    "    def weight(self):\n",
    "        return self._weight\n",
    "\n",
    "    @property\n",
    "    def fuel(self):\n",
    "        return self._fuel\n",
    "\n",
    "    @property\n",
    "    def fuel_consumption(self):\n",
    "        return self._fuel_consumption\n",
    "\n",
    "    @property\n",
    "    def started(self):\n",
    "        return self._started\n",
    "\n",
    "    @started.setter\n",
    "    def started(self, value):\n",
    "        self._started = value\n",
    "\n",
    "    def move(self, distance):\n",
    "        if self._fuel_consumption>0 :\n",
    "            required_fuel = distance/self._fuel_consumption\n",
    "            if self._fuel >= required_fuel:\n",
    "                self._fuel -= required_fuel\n",
    "            else:\n",
    "                raise NotEnoughFuel\n",
    "        else:\n",
    "            raise NotEnoughFuel\n",
    "\n"
   ]
  },
  {
   "cell_type": "markdown",
   "metadata": {},
   "source": [
    "## 3) Engine \n",
    "\n",
    "<img src=\"https://upload.wikimedia.org/wikipedia/commons/6/6f/National_gas_engine_%28Rankin_Kennedy%2C_Modern_Engines%2C_Vol_II%29.jpg\" width=250>\n",
    "\n",
    "Создайте датакласс `Engine`, добавьте атрибуты `volume` и `pistons`"
   ]
  },
  {
   "cell_type": "code",
   "execution_count": null,
   "metadata": {},
   "outputs": [],
   "source": [
    "from dataclasses import dataclass\n",
    "\n",
    "@dataclass\n",
    "class Engine:\n",
    "    volume: int\n",
    "    pistons: int"
   ]
  },
  {
   "cell_type": "markdown",
   "metadata": {},
   "source": [
    "## 4) Car \n",
    "\n",
    "<img src=\"https://lh3.googleusercontent.com/proxy/RJqzSJqZFQrx7xOXimZQ4ooInGE6ViJdwz7JZZ_b__Eun-stRH2NMw47fM4je2hL1afRtmpKS9kZUVY0p2YcaZVtJ7bKRw3wWHRRa6zVUbeIb5TYLNkwx5A\" width=250>\n",
    "\n",
    "Cоздайте класс `Car`\n",
    "    - класс `Car` должен быть наследником `Vehicle`\n",
    "    - добавьте атрибут `engine` классу `Car`\n",
    "    - объявите метод `set_engine`, который принимает в себя экземпляр объекта `Engine` и устанавливает на текущий экземпляр `Car`"
   ]
  },
  {
   "cell_type": "code",
   "execution_count": null,
   "metadata": {},
   "outputs": [],
   "source": [
    "from vehicle import Vehicle\n",
    "from engine import Engine\n",
    "\n",
    "\n",
    "class Car(Vehicle):\n",
    "    DEFAULT_WEIGHT = 2500\n",
    "    DEFAULT_FUEL = 70.0\n",
    "    DEFAULT_FUEL_CONSUMPTION = 12.0\n",
    "\n",
    "    def __init__(self, weight=DEFAULT_WEIGHT, fuel=DEFAULT_FUEL, fuel_consumption=DEFAULT_FUEL_CONSUMPTION):\n",
    "        super().__init__(weight, fuel, fuel_consumption)\n",
    "        self._engine = None\n",
    "\n",
    "    @property\n",
    "    def engine(self):\n",
    "        return self._engine\n",
    "\n",
    "    def set_engine(self, engine: Engine):\n",
    "        assert isinstance(engine, Engine)\n",
    "        self._engine = engine"
   ]
  },
  {
   "cell_type": "markdown",
   "metadata": {},
   "source": [
    "## 5) Plane\n",
    "\n",
    "<img src=\"http://www.weirduniverse.net/images/2017/1934parachute02.jpg\" width=250>\n",
    "\n",
    "Создайте класс `Plane`\n",
    "- класс `Plane` должен быть наследником `Vehicle`\n",
    "- добавьте атрибуты `cargo` и `max_cargo` классу `Plane`\n",
    "- добавьте `max_cargo` в инициализатор (переопределите родительский)\n",
    "- объявите метод `load_cargo`, который принимает число, проверяет, что в сумме с текущим `cargo` не будет перегруза, и обновляет значение, в ином случае выкидывает исключение `exceptions.CargoOverload`\n",
    "- объявите метод `remove_all_cargo`, который обнуляет значение `cargo` и возвращает значение `cargo`, которое было до обнуления"
   ]
  },
  {
   "cell_type": "code",
   "execution_count": null,
   "metadata": {},
   "outputs": [],
   "source": [
    "from exceptions import CargoOverload\n",
    "from vehicle import Vehicle\n",
    "\n",
    "class Plane(Vehicle):\n",
    "\n",
    "    DEFAULT_WEIGHT = 50000\n",
    "    DEFAULT_FUEL = 2000.0\n",
    "    DEFAULT_FUEL_CONSUMPTION = 50.0\n",
    "\n",
    "    def __init__(self, max_cargo, weight=DEFAULT_WEIGHT, fuel=DEFAULT_FUEL, fuel_consumption=DEFAULT_FUEL_CONSUMPTION):\n",
    "        super().__init__(weight, fuel, fuel_consumption)\n",
    "        self._cargo = 0\n",
    "        self._max_cargo = max_cargo\n",
    "\n",
    "    @property\n",
    "    def cargo(self):\n",
    "        return self._cargo\n",
    "\n",
    "    @property\n",
    "    def max_cargo(self):\n",
    "        return self._max_cargo\n",
    "\n",
    "    def load_cargo(self, added_cargo):\n",
    "        common_cargo = self._cargo + added_cargo\n",
    "        if common_cargo > self._max_cargo:\n",
    "            raise CargoOverload\n",
    "        else:\n",
    "            self._cargo = common_cargo\n",
    "\n",
    "    def remove_all_cargo(self):\n",
    "        before_removing_cargo = self._cargo\n",
    "        self._cargo = 0\n",
    "        return before_removing_cargo"
   ]
  }
 ],
 "metadata": {
  "kernelspec": {
   "display_name": "base",
   "language": "python",
   "name": "python3"
  },
  "language_info": {
   "codemirror_mode": {
    "name": "ipython",
    "version": 3
   },
   "file_extension": ".py",
   "mimetype": "text/x-python",
   "name": "python",
   "nbconvert_exporter": "python",
   "pygments_lexer": "ipython3",
   "version": "3.12.4"
  },
  "varInspector": {
   "cols": {
    "lenName": 16,
    "lenType": 16,
    "lenVar": 40
   },
   "kernels_config": {
    "python": {
     "delete_cmd_postfix": "",
     "delete_cmd_prefix": "del ",
     "library": "var_list.py",
     "varRefreshCmd": "print(var_dic_list())"
    },
    "r": {
     "delete_cmd_postfix": ") ",
     "delete_cmd_prefix": "rm(",
     "library": "var_list.r",
     "varRefreshCmd": "cat(var_dic_list()) "
    }
   },
   "types_to_exclude": [
    "module",
    "function",
    "builtin_function_or_method",
    "instance",
    "_Feature"
   ],
   "window_display": false
  }
 },
 "nbformat": 4,
 "nbformat_minor": 4
}
