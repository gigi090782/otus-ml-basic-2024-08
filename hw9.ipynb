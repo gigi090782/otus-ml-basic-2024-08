{
 "cells": [
  {
   "cell_type": "markdown",
   "metadata": {
    "id": "VRPDa7Yxi_ow"
   },
   "source": [
    "# Домашнее задание: Учимся работе с данными - от загрузки до моделирования."
   ]
  },
  {
   "cell_type": "markdown",
   "metadata": {},
   "source": [
    "## 1. Скачайте датасет"
   ]
  },
  {
   "cell_type": "code",
   "execution_count": null,
   "metadata": {},
   "outputs": [],
   "source": [
    "import pandas as pd\n",
    "import numpy as np\n",
    "from sklearn import datasets\n",
    "import seaborn as sb\n",
    "import matplotlib\n",
    "import matplotlib.pyplot as plt\n",
    "\n",
    "import warnings\n",
    "warnings.filterwarnings(\"ignore\")"
   ]
  },
  {
   "cell_type": "code",
   "execution_count": null,
   "metadata": {},
   "outputs": [],
   "source": [
    "df = pd.read_csv('dataset.csv')\n",
    "df.head()"
   ]
  },
  {
   "cell_type": "markdown",
   "metadata": {},
   "source": [
    "## 2. Посмотрите на базовые статистики датасета: средние, медианы, и т.д."
   ]
  },
  {
   "cell_type": "code",
   "execution_count": null,
   "metadata": {
    "colab": {
     "base_uri": "https://localhost:8080/",
     "height": 300
    },
    "executionInfo": {
     "elapsed": 39,
     "status": "ok",
     "timestamp": 1680620795249,
     "user": {
      "displayName": "Roman Matantsev",
      "userId": "11743612355519136441"
     },
     "user_tz": -120
    },
    "id": "eNkCT_zui_ox",
    "outputId": "898fb74d-6a62-4f5f-e85c-55915efb949b"
   },
   "outputs": [],
   "source": [
    "df.describe()"
   ]
  },
  {
   "cell_type": "code",
   "execution_count": null,
   "metadata": {},
   "outputs": [],
   "source": [
    "df.isnull().sum()"
   ]
  },
  {
   "cell_type": "code",
   "execution_count": null,
   "metadata": {},
   "outputs": [],
   "source": [
    "df = df.iloc[:, 1:-1] \n",
    "df.head()"
   ]
  },
  {
   "cell_type": "code",
   "execution_count": null,
   "metadata": {},
   "outputs": [],
   "source": [
    "df.shape"
   ]
  },
  {
   "cell_type": "code",
   "execution_count": null,
   "metadata": {},
   "outputs": [],
   "source": [
    "df.columns"
   ]
  },
  {
   "cell_type": "code",
   "execution_count": null,
   "metadata": {},
   "outputs": [],
   "source": [
    "df.dtypes"
   ]
  },
  {
   "cell_type": "markdown",
   "metadata": {
    "id": "fDUXpGMri_oy"
   },
   "source": [
    "## 3. Постройте гистограммы\\распределения признаков, при этом используйте целевую переменную, чтобы сгруппировать и раскрасить гистограммы."
   ]
  },
  {
   "cell_type": "code",
   "execution_count": null,
   "metadata": {},
   "outputs": [],
   "source": [
    "fig,ax1 = plt.subplots()\n",
    "sb.histplot(df['diagnosis'], fill=False, ax=ax1,  color='skyblue' )\n",
    "ax1.set_title(r'Распределение признака diagnosis')\n",
    "plt.show()"
   ]
  },
  {
   "cell_type": "code",
   "execution_count": null,
   "metadata": {
    "colab": {
     "base_uri": "https://localhost:8080/"
    },
    "executionInfo": {
     "elapsed": 23,
     "status": "ok",
     "timestamp": 1680620795835,
     "user": {
      "displayName": "Roman Matantsev",
      "userId": "11743612355519136441"
     },
     "user_tz": -120
    },
    "id": "0tnVYoeDi_oy",
    "outputId": "cc0efff9-9355-4239-b7b5-d664930ffd1e"
   },
   "outputs": [],
   "source": [
    "df['diagnosis'].value_counts(normalize=True)"
   ]
  },
  {
   "cell_type": "code",
   "execution_count": null,
   "metadata": {},
   "outputs": [],
   "source": [
    "limit = 150\n",
    "ax = sb.histplot(x='perimeter_mean', data=df[df['perimeter_mean'] <= limit],\n",
    "                  bins=10, binrange=(df['perimeter_mean'].min(), limit), color='green')\n",
    "sb.histplot(x='perimeter_mean', data=df[df['perimeter_mean'] > limit],\n",
    "             bins=3, binrange=(limit, df['perimeter_mean'].max()), color='red', ax=ax)\n",
    "plt.axvline(limit, color='black', linestyle='--')\n",
    "plt.show()"
   ]
  },
  {
   "cell_type": "code",
   "execution_count": null,
   "metadata": {
    "colab": {
     "base_uri": "https://localhost:8080/",
     "height": 747
    },
    "executionInfo": {
     "elapsed": 3879,
     "status": "ok",
     "timestamp": 1680620799700,
     "user": {
      "displayName": "Roman Matantsev",
      "userId": "11743612355519136441"
     },
     "user_tz": -120
    },
    "id": "BVjYtQaSi_oy",
    "outputId": "eeb10177-4825-4873-ea80-8488380c251a"
   },
   "outputs": [],
   "source": [
    "df.hist(figsize=(20, 15));"
   ]
  },
  {
   "cell_type": "code",
   "execution_count": null,
   "metadata": {},
   "outputs": [],
   "source": [
    "sb.pairplot(df, hue='diagnosis');"
   ]
  },
  {
   "cell_type": "markdown",
   "metadata": {},
   "source": [
    "## 4. Постройте heatmap для матрицы корреляций, есть ли признаки, которые сильно скоррелированы? Какие это признаки?"
   ]
  },
  {
   "cell_type": "code",
   "execution_count": null,
   "metadata": {},
   "outputs": [],
   "source": [
    "plt.figure(figsize=(20, 18))\n",
    "sb.heatmap(df.corr(numeric_only=True), annot=True, cbar=False, cmap='viridis', fmt=\".2f\")\n",
    "plt.title('Heatmap для матрицы корреляции')\n",
    "plt.show()"
   ]
  },
  {
   "cell_type": "markdown",
   "metadata": {},
   "source": [
    "Наиболее скоррелированные признаки отмечены желтым цветом. Очевидно, что наибольшая корреляция между признаками: площадь, радиус, периметр"
   ]
  },
  {
   "cell_type": "markdown",
   "metadata": {},
   "source": [
    "## 5. Постройте для сильно скоррелированных признаков попарные scatterplot-ы, действительно ли наблюдается линейная зависимость?"
   ]
  },
  {
   "cell_type": "code",
   "execution_count": null,
   "metadata": {},
   "outputs": [],
   "source": [
    "df_corr = df.corr(numeric_only=True)\n",
    "highly_corr = df_corr[df_corr.abs() > 0.9]\n",
    "highly_corr = highly_corr.stack().reset_index()\n",
    "highly_corr = highly_corr[highly_corr['level_0'] < highly_corr['level_1']]\n",
    "#сильно скоррелированные признаки \n",
    "print(highly_corr)\n",
    "for index, row in highly_corr.iterrows():\n",
    "    plt.figure(figsize=(6, 4))\n",
    "    sb.scatterplot(data=df, x=row['level_0'], y=row['level_1'])\n",
    "    plt.title(f\"Корреляция признака {row['level_0']} от {row['level_1']}\")\n",
    "    plt.show()"
   ]
  },
  {
   "cell_type": "markdown",
   "metadata": {},
   "source": [
    "В данных наблюдается линейная зависимость"
   ]
  },
  {
   "cell_type": "markdown",
   "metadata": {},
   "source": [
    "## 6. Используя boxplots и группировку по целевой переменной, попробуйте предположить, по каким признакам наиболее удобно было бы отделить злокачественные новообразования от доброкачественных."
   ]
  },
  {
   "cell_type": "code",
   "execution_count": null,
   "metadata": {},
   "outputs": [],
   "source": [
    "features = [col for col in df.columns if col != 'diagnosis']\n",
    "for feature in features:\n",
    "    plt.figure(figsize=(6, 4))\n",
    "    sb.boxplot(x='diagnosis', y=feature, data=df)\n",
    "    plt.title(f'Boxplot признака {feature} сгруппированный по полю diagnosis')\n",
    "    plt.show()"
   ]
  },
  {
   "cell_type": "markdown",
   "metadata": {},
   "source": [
    "Проанализировав графики, можно предположить, что наиболее показательными признаками для отделения видов диагноза являются: rasius_mean,  perimeter_mean, area_mean, compactness_mean, concavity_mean, concave points_mean,  concave points_worst, concavity_worst"
   ]
  },
  {
   "cell_type": "markdown",
   "metadata": {
    "id": "nFz2JB2pi_oz"
   },
   "source": [
    "## Часть 2. Моделирование при помощи kNN\n",
    "### Приведите все непрерывные переменные к одному масштабу при помощи стандартизации. Кратко поясните, почему стандартизация здесь нужна."
   ]
  },
  {
   "cell_type": "code",
   "execution_count": null,
   "metadata": {
    "id": "VPzsXMvbi_oz",
    "tags": []
   },
   "outputs": [],
   "source": [
    "non_numeric_cols = df.select_dtypes(exclude=[np.number]).columns\n",
    "print(non_numeric_cols)\n"
   ]
  },
  {
   "cell_type": "code",
   "execution_count": null,
   "metadata": {},
   "outputs": [],
   "source": [
    "df['diagnosis'] = df['diagnosis'].apply(lambda x: 1 if x=='M' else 0)\n",
    "df.head()"
   ]
  },
  {
   "cell_type": "markdown",
   "metadata": {},
   "source": [
    "### Разбейте данные на train-test, отложив 30% выборки для тестирования."
   ]
  },
  {
   "cell_type": "code",
   "execution_count": null,
   "metadata": {
    "id": "3Dqk_WTFi_o0",
    "tags": []
   },
   "outputs": [],
   "source": [
    "from sklearn.model_selection import train_test_split\n",
    "X_train, X_test, y_train, y_test = train_test_split(\n",
    "    df.drop(['diagnosis'], axis=1), df['diagnosis'], test_size=0.30, random_state=42, stratify=df['diagnosis']\n",
    ")"
   ]
  },
  {
   "cell_type": "code",
   "execution_count": null,
   "metadata": {
    "colab": {
     "base_uri": "https://localhost:8080/"
    },
    "executionInfo": {
     "elapsed": 58,
     "status": "ok",
     "timestamp": 1680620816311,
     "user": {
      "displayName": "Roman Matantsev",
      "userId": "11743612355519136441"
     },
     "user_tz": -120
    },
    "id": "XxAt6PNZi_o0",
    "outputId": "3a5a711e-2df2-4a10-824d-148a0d6e5d5b"
   },
   "outputs": [],
   "source": [
    "X_train.shape, X_test.shape, y_train.shape, y_test.shape"
   ]
  },
  {
   "cell_type": "code",
   "execution_count": null,
   "metadata": {
    "colab": {
     "base_uri": "https://localhost:8080/"
    },
    "executionInfo": {
     "elapsed": 51,
     "status": "ok",
     "timestamp": 1680620816314,
     "user": {
      "displayName": "Roman Matantsev",
      "userId": "11743612355519136441"
     },
     "user_tz": -120
    },
    "id": "NzyuJAPPi_o0",
    "outputId": "9e254e0c-8258-41f4-f114-7f57ffbeb889"
   },
   "outputs": [],
   "source": [
    "y_train.value_counts(normalize=True)"
   ]
  },
  {
   "cell_type": "code",
   "execution_count": null,
   "metadata": {
    "colab": {
     "base_uri": "https://localhost:8080/"
    },
    "executionInfo": {
     "elapsed": 43,
     "status": "ok",
     "timestamp": 1680620816314,
     "user": {
      "displayName": "Roman Matantsev",
      "userId": "11743612355519136441"
     },
     "user_tz": -120
    },
    "id": "1gSEpv3di_o1",
    "outputId": "4789be7f-7cb6-4bb6-9577-013ab3b6ed2a"
   },
   "outputs": [],
   "source": [
    "y_test.value_counts(normalize=True)"
   ]
  },
  {
   "cell_type": "markdown",
   "metadata": {
    "id": "OAnqZYqoi_o1"
   },
   "source": [
    "#### Необходма стандартизация данных, так как присутствует разный порядок значений"
   ]
  },
  {
   "cell_type": "code",
   "execution_count": null,
   "metadata": {
    "colab": {
     "background_save": true
    },
    "id": "-AMqRMg0i_o1",
    "tags": []
   },
   "outputs": [],
   "source": [
    "from sklearn.preprocessing import StandardScaler\n",
    "scaler = StandardScaler()\n",
    "\n",
    "X_train_scaled = scaler.fit_transform(X_train)\n",
    "X_test_scaled = scaler.transform(X_test)"
   ]
  },
  {
   "cell_type": "markdown",
   "metadata": {},
   "source": [
    "### Постройте модель kNN \"из коробки\" без настройки параметров. Оцените метрики качества бинарной классификации (accuracy, precision, recall, f1_score), постройте ROC-кривую и посчитайте площадь под ней."
   ]
  },
  {
   "cell_type": "code",
   "execution_count": null,
   "metadata": {},
   "outputs": [],
   "source": [
    "from sklearn.neighbors import KNeighborsClassifier\n",
    "\n",
    "knn = KNeighborsClassifier()\n",
    "knn.fit(X_train_scaled, y_train)\n",
    "\n",
    "y_train_pred = knn.predict(X_train_scaled)\n",
    "y_test_pred = knn.predict(X_test_scaled)\n",
    "\n",
    "from sklearn.metrics import accuracy_score, precision_score, recall_score, f1_score\n",
    "\n",
    "print('Train metrics:')\n",
    "print(f'Accuracy: {accuracy_score(y_train, y_train_pred)}')\n",
    "print(f'Precision: {precision_score(y_train, y_train_pred)}')\n",
    "print(f'Recall: {recall_score(y_train, y_train_pred)}')\n",
    "print(f'F1-score: {f1_score(y_train, y_train_pred)}')\n",
    "\n",
    "print('Test metrics:')\n",
    "print(f'Accuracy: {accuracy_score(y_test, y_test_pred)}')\n",
    "print(f'Precision: {precision_score(y_test, y_test_pred)}')\n",
    "print(f'Recall: {recall_score(y_test, y_test_pred)}')\n",
    "print(f'F1-score: {f1_score(y_test, y_test_pred)}')"
   ]
  },
  {
   "cell_type": "code",
   "execution_count": null,
   "metadata": {},
   "outputs": [],
   "source": [
    "from sklearn.metrics import roc_curve, roc_auc_score\n",
    "\n",
    "\n",
    "y_test_prob = knn.predict_proba(X_test_scaled)[:, 1]\n",
    "fpr, tpr, _ = roc_curve(y_test, y_test_prob)  # вычисление значений для ROC кривой\n",
    "roc_auc = roc_auc_score(y_test, y_test_prob)  # вычисление площади под ROC кривой\n",
    "\n",
    "plt.figure()\n",
    "lw = 2\n",
    "plt.plot(fpr, tpr, color='darkgreen', lw=2, label='ROC curve (area = %0.2f)' % roc_auc)\n",
    "plt.plot([0, 1], [0, 1], color='navy', lw=2, linestyle='--')\n",
    "plt.xlim([0.0, 1.05])\n",
    "plt.ylim([0.0, 1.05])\n",
    "plt.xlabel('False Positive Rate')\n",
    "plt.ylabel('True Positive Rate')\n",
    "plt.legend(loc=\"lower right\")\n",
    "plt.show()"
   ]
  },
  {
   "cell_type": "markdown",
   "metadata": {},
   "source": [
    "Можно оцени модель как вполне точную"
   ]
  },
  {
   "cell_type": "markdown",
   "metadata": {},
   "source": [
    "## Теперь проведите настройку параметра числа соседей на кросс-валидации. Снова оцените результаты, стало ли лучше?"
   ]
  },
  {
   "cell_type": "code",
   "execution_count": null,
   "metadata": {},
   "outputs": [],
   "source": [
    "from sklearn.model_selection import GridSearchCV\n",
    "\n",
    "param_grid = {\n",
    "        'n_neighbors': range(1, 50),\n",
    "        'p': range(1, 4)\n",
    "}\n",
    "\n",
    "grid_search = GridSearchCV(KNeighborsClassifier(), param_grid, cv=5, scoring='f1', verbose=1)\n",
    "grid_search.fit(X_train_scaled, y_train)"
   ]
  },
  {
   "cell_type": "code",
   "execution_count": null,
   "metadata": {},
   "outputs": [],
   "source": [
    "print(f\"Best parameters: {grid_search.best_params_}\")\n",
    "print(f\"Best cross-validation score: {grid_search.best_score_}\")"
   ]
  },
  {
   "cell_type": "code",
   "execution_count": null,
   "metadata": {},
   "outputs": [],
   "source": [
    "y_train_pred = grid_search.predict(X_train_scaled)\n",
    "y_test_pred = grid_search.predict(X_test_scaled)\n",
    "\n",
    "print('Train metrics:')\n",
    "print(f'Accuracy: {accuracy_score(y_train, y_train_pred)}')\n",
    "print(f'Precision: {precision_score(y_train, y_train_pred)}')\n",
    "print(f'Recall: {recall_score(y_train, y_train_pred)}')\n",
    "print(f'F1-score: {f1_score(y_train, y_train_pred)}')\n",
    "\n",
    "print('Test metrics:')\n",
    "print(f'Accuracy: {accuracy_score(y_test, y_test_pred)}')\n",
    "print(f'Precision: {precision_score(y_test, y_test_pred)}')\n",
    "print(f'Recall: {recall_score(y_test, y_test_pred)}')\n",
    "print(f'F1-score: {f1_score(y_test, y_test_pred)}')\n",
    "\n",
    "y_test_prob = grid_search.predict_proba(X_test_scaled)[:, 1]\n",
    "fpr, tpr, _ = roc_curve(y_test, y_test_prob)  # вычисление значений для ROC кривой\n",
    "roc_auc = roc_auc_score(y_test, y_test_prob)  # вычисление площади под ROC кривой\n",
    "\n",
    "plt.figure()\n",
    "lw = 2\n",
    "plt.plot(fpr, tpr, color='darkgreen', lw=lw, label=f'ROC curve (area = {roc_auc:0.2f})')\n",
    "plt.plot([0, 1], [0, 1], color='navy', lw=lw, linestyle='--')\n",
    "plt.xlim([0.0, 1.0])\n",
    "plt.ylim([0.0, 1.05])\n",
    "plt.xlabel('False Positive Rate')\n",
    "plt.ylabel('True Positive Rate')\n",
    "plt.title('Receiver operating characteristic example')\n",
    "plt.legend(loc=\"lower right\")\n",
    "plt.show()"
   ]
  },
  {
   "cell_type": "markdown",
   "metadata": {},
   "source": [
    "Настройка параметра числа соседей на кросс-валидации привела к улучшению метрик"
   ]
  }
 ],
 "metadata": {
  "colab": {
   "name": "",
   "version": ""
  },
  "kernelspec": {
   "display_name": "base",
   "language": "python",
   "name": "python3"
  },
  "language_info": {
   "codemirror_mode": {
    "name": "ipython",
    "version": 3
   },
   "file_extension": ".py",
   "mimetype": "text/x-python",
   "name": "python",
   "nbconvert_exporter": "python",
   "pygments_lexer": "ipython3",
   "version": "3.12.4"
  },
  "toc-autonumbering": false,
  "toc-showcode": true,
  "toc-showmarkdowntxt": false,
  "varInspector": {
   "cols": {
    "lenName": 16,
    "lenType": 16,
    "lenVar": 40
   },
   "kernels_config": {
    "python": {
     "delete_cmd_postfix": "",
     "delete_cmd_prefix": "del ",
     "library": "var_list.py",
     "varRefreshCmd": "print(var_dic_list())"
    },
    "r": {
     "delete_cmd_postfix": ") ",
     "delete_cmd_prefix": "rm(",
     "library": "var_list.r",
     "varRefreshCmd": "cat(var_dic_list()) "
    }
   },
   "types_to_exclude": [
    "module",
    "function",
    "builtin_function_or_method",
    "instance",
    "_Feature"
   ],
   "window_display": false
  }
 },
 "nbformat": 4,
 "nbformat_minor": 4
}
